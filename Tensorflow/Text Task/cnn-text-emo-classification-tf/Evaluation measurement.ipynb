{
 "cells": [
  {
   "cell_type": "code",
   "execution_count": 44,
   "metadata": {
    "collapsed": true
   },
   "outputs": [],
   "source": [
    "import itertools\n",
    "import numpy as np\n",
    "import pandas as pd\n",
    "import matplotlib.pyplot as plt\n",
    "from sklearn.metrics import confusion_matrix\n",
    "from sklearn.metrics import classification_report"
   ]
  },
  {
   "cell_type": "markdown",
   "metadata": {},
   "source": [
    "## Load Model Test Result"
   ]
  },
  {
   "cell_type": "code",
   "execution_count": 40,
   "metadata": {
    "collapsed": true
   },
   "outputs": [],
   "source": [
    "emotion_num_dict = {'joy':         0,\n",
    "                    'surprise':    1,\n",
    "                    'trust':       2,\n",
    "                    'anticipation':3,\n",
    "                    'fear':        4,\n",
    "                    'sadness':     5,\n",
    "                    'disgust':     6,\n",
    "                    'anger':       7\n",
    "                    }\n",
    "\n",
    "num_emotion_dict = {0:'joy',\n",
    "                    1:'surprise',\n",
    "                    2:'trust',\n",
    "                    3:'anticipation',\n",
    "                    4:'fear',\n",
    "                    5:'sadness',\n",
    "                    6:'disgust',\n",
    "                    7:'anger'\n",
    "                    }"
   ]
  },
  {
   "cell_type": "code",
   "execution_count": 25,
   "metadata": {
    "scrolled": true
   },
   "outputs": [
    {
     "data": {
      "text/html": [
       "<div>\n",
       "<style>\n",
       "    .dataframe thead tr:only-child th {\n",
       "        text-align: right;\n",
       "    }\n",
       "\n",
       "    .dataframe thead th {\n",
       "        text-align: left;\n",
       "    }\n",
       "\n",
       "    .dataframe tbody tr th {\n",
       "        vertical-align: top;\n",
       "    }\n",
       "</style>\n",
       "<table border=\"1\" class=\"dataframe\">\n",
       "  <thead>\n",
       "    <tr style=\"text-align: right;\">\n",
       "      <th></th>\n",
       "      <th>post</th>\n",
       "      <th>emotion</th>\n",
       "    </tr>\n",
       "  </thead>\n",
       "  <tbody>\n",
       "    <tr>\n",
       "      <th>0</th>\n",
       "      <td>championsleague i am cmng to watch you all mat...</td>\n",
       "      <td>4.0</td>\n",
       "    </tr>\n",
       "    <tr>\n",
       "      <th>1</th>\n",
       "      <td>mufc wages up19 in13 14 season with dimaria fa...</td>\n",
       "      <td>3.0</td>\n",
       "    </tr>\n",
       "    <tr>\n",
       "      <th>2</th>\n",
       "      <td>sterlings getting some great experience here i...</td>\n",
       "      <td>2.0</td>\n",
       "    </tr>\n",
       "    <tr>\n",
       "      <th>3</th>\n",
       "      <td>1 more week then it 's block 208 kop grandstan...</td>\n",
       "      <td>2.0</td>\n",
       "    </tr>\n",
       "    <tr>\n",
       "      <th>4</th>\n",
       "      <td>1 week from today ! the championsleague return...</td>\n",
       "      <td>0.0</td>\n",
       "    </tr>\n",
       "    <tr>\n",
       "      <th>5</th>\n",
       "      <td>1 week today champions league is back at anfie...</td>\n",
       "      <td>2.0</td>\n",
       "    </tr>\n",
       "    <tr>\n",
       "      <th>6</th>\n",
       "      <td>1 week today i 'll be flying out for bvb vs ar...</td>\n",
       "      <td>0.0</td>\n",
       "    </tr>\n",
       "    <tr>\n",
       "      <th>7</th>\n",
       "      <td>1 week today , championsleague returns to lfc ...</td>\n",
       "      <td>0.0</td>\n",
       "    </tr>\n",
       "    <tr>\n",
       "      <th>8</th>\n",
       "      <td>2012 was only good because chelsea won the cha...</td>\n",
       "      <td>2.0</td>\n",
       "    </tr>\n",
       "    <tr>\n",
       "      <th>9</th>\n",
       "      <td>26 yo right back , played in champions league ...</td>\n",
       "      <td>2.0</td>\n",
       "    </tr>\n",
       "  </tbody>\n",
       "</table>\n",
       "</div>"
      ],
      "text/plain": [
       "                                                post  emotion\n",
       "0  championsleague i am cmng to watch you all mat...      4.0\n",
       "1  mufc wages up19 in13 14 season with dimaria fa...      3.0\n",
       "2  sterlings getting some great experience here i...      2.0\n",
       "3  1 more week then it 's block 208 kop grandstan...      2.0\n",
       "4  1 week from today ! the championsleague return...      0.0\n",
       "5  1 week today champions league is back at anfie...      2.0\n",
       "6  1 week today i 'll be flying out for bvb vs ar...      0.0\n",
       "7  1 week today , championsleague returns to lfc ...      0.0\n",
       "8  2012 was only good because chelsea won the cha...      2.0\n",
       "9  26 yo right back , played in champions league ...      2.0"
      ]
     },
     "execution_count": 25,
     "metadata": {},
     "output_type": "execute_result"
    }
   ],
   "source": [
    "model_test_result = pd.read_csv ('./runs/1502342808/prediction.csv', delimiter=\"\\t\", names = [\"post\", \"emotion\"])\n",
    "model_test_result[:10]"
   ]
  },
  {
   "cell_type": "code",
   "execution_count": 27,
   "metadata": {},
   "outputs": [
    {
     "data": {
      "text/html": [
       "<div>\n",
       "<style>\n",
       "    .dataframe thead tr:only-child th {\n",
       "        text-align: right;\n",
       "    }\n",
       "\n",
       "    .dataframe thead th {\n",
       "        text-align: left;\n",
       "    }\n",
       "\n",
       "    .dataframe tbody tr th {\n",
       "        vertical-align: top;\n",
       "    }\n",
       "</style>\n",
       "<table border=\"1\" class=\"dataframe\">\n",
       "  <thead>\n",
       "    <tr style=\"text-align: right;\">\n",
       "      <th></th>\n",
       "      <th>post</th>\n",
       "      <th>emotion</th>\n",
       "    </tr>\n",
       "  </thead>\n",
       "  <tbody>\n",
       "    <tr>\n",
       "      <th>0</th>\n",
       "      <td>championsleague i am cmng to watch you all mat...</td>\n",
       "      <td>fear</td>\n",
       "    </tr>\n",
       "    <tr>\n",
       "      <th>1</th>\n",
       "      <td>mufc wages up19 in13 14 season with dimaria fa...</td>\n",
       "      <td>anticipation</td>\n",
       "    </tr>\n",
       "    <tr>\n",
       "      <th>2</th>\n",
       "      <td>sterlings getting some great experience here i...</td>\n",
       "      <td>trust</td>\n",
       "    </tr>\n",
       "    <tr>\n",
       "      <th>3</th>\n",
       "      <td>1 more week then it 's block 208 kop grandstan...</td>\n",
       "      <td>trust</td>\n",
       "    </tr>\n",
       "    <tr>\n",
       "      <th>4</th>\n",
       "      <td>1 week from today ! the championsleague return...</td>\n",
       "      <td>joy</td>\n",
       "    </tr>\n",
       "    <tr>\n",
       "      <th>5</th>\n",
       "      <td>1 week today champions league is back at anfie...</td>\n",
       "      <td>trust</td>\n",
       "    </tr>\n",
       "    <tr>\n",
       "      <th>6</th>\n",
       "      <td>1 week today i 'll be flying out for bvb vs ar...</td>\n",
       "      <td>joy</td>\n",
       "    </tr>\n",
       "    <tr>\n",
       "      <th>7</th>\n",
       "      <td>1 week today , championsleague returns to lfc ...</td>\n",
       "      <td>joy</td>\n",
       "    </tr>\n",
       "    <tr>\n",
       "      <th>8</th>\n",
       "      <td>2012 was only good because chelsea won the cha...</td>\n",
       "      <td>trust</td>\n",
       "    </tr>\n",
       "    <tr>\n",
       "      <th>9</th>\n",
       "      <td>26 yo right back , played in champions league ...</td>\n",
       "      <td>trust</td>\n",
       "    </tr>\n",
       "  </tbody>\n",
       "</table>\n",
       "</div>"
      ],
      "text/plain": [
       "                                                post       emotion\n",
       "0  championsleague i am cmng to watch you all mat...          fear\n",
       "1  mufc wages up19 in13 14 season with dimaria fa...  anticipation\n",
       "2  sterlings getting some great experience here i...         trust\n",
       "3  1 more week then it 's block 208 kop grandstan...         trust\n",
       "4  1 week from today ! the championsleague return...           joy\n",
       "5  1 week today champions league is back at anfie...         trust\n",
       "6  1 week today i 'll be flying out for bvb vs ar...           joy\n",
       "7  1 week today , championsleague returns to lfc ...           joy\n",
       "8  2012 was only good because chelsea won the cha...         trust\n",
       "9  26 yo right back , played in champions league ...         trust"
      ]
     },
     "execution_count": 27,
     "metadata": {},
     "output_type": "execute_result"
    }
   ],
   "source": [
    "model_test_result.emotion = model_test_result.emotion.map(lambda x: num_emotion_dict[int(x)])\n",
    "model_test_result[:10]"
   ]
  },
  {
   "cell_type": "markdown",
   "metadata": {},
   "source": [
    "## Load Label Result"
   ]
  },
  {
   "cell_type": "code",
   "execution_count": 21,
   "metadata": {},
   "outputs": [
    {
     "data": {
      "text/html": [
       "<div>\n",
       "<style>\n",
       "    .dataframe thead tr:only-child th {\n",
       "        text-align: right;\n",
       "    }\n",
       "\n",
       "    .dataframe thead th {\n",
       "        text-align: left;\n",
       "    }\n",
       "\n",
       "    .dataframe tbody tr th {\n",
       "        vertical-align: top;\n",
       "    }\n",
       "</style>\n",
       "<table border=\"1\" class=\"dataframe\">\n",
       "  <thead>\n",
       "    <tr style=\"text-align: right;\">\n",
       "      <th></th>\n",
       "      <th>post</th>\n",
       "      <th>emo1</th>\n",
       "      <th>emo2</th>\n",
       "      <th>emo3</th>\n",
       "    </tr>\n",
       "  </thead>\n",
       "  <tbody>\n",
       "    <tr>\n",
       "      <th>0</th>\n",
       "      <td>#championsleague i am cmng to watch you...all ...</td>\n",
       "      <td>joy</td>\n",
       "      <td>anticipation</td>\n",
       "      <td>trust</td>\n",
       "    </tr>\n",
       "    <tr>\n",
       "      <th>1</th>\n",
       "      <td>#mufc wages up19% in13/14 season with #dimaria...</td>\n",
       "      <td>anticipation</td>\n",
       "      <td>fear</td>\n",
       "      <td>NaN</td>\n",
       "    </tr>\n",
       "    <tr>\n",
       "      <th>2</th>\n",
       "      <td>#sterlings getting some great experience here....</td>\n",
       "      <td>joy</td>\n",
       "      <td>trust</td>\n",
       "      <td>anticipation</td>\n",
       "    </tr>\n",
       "    <tr>\n",
       "      <th>3</th>\n",
       "      <td>1 more week then it's block 208 kop grandstand...</td>\n",
       "      <td>anticipation</td>\n",
       "      <td>joy</td>\n",
       "      <td>trust</td>\n",
       "    </tr>\n",
       "    <tr>\n",
       "      <th>4</th>\n",
       "      <td>1 week from today! the @championsleague return...</td>\n",
       "      <td>anticipation</td>\n",
       "      <td>joy</td>\n",
       "      <td>trust</td>\n",
       "    </tr>\n",
       "    <tr>\n",
       "      <th>5</th>\n",
       "      <td>1 week today champions league is back at anfie...</td>\n",
       "      <td>anticipation</td>\n",
       "      <td>joy</td>\n",
       "      <td>trust</td>\n",
       "    </tr>\n",
       "    <tr>\n",
       "      <th>6</th>\n",
       "      <td>1 week today i'll be flying out for @bvb vs @a...</td>\n",
       "      <td>anticipation</td>\n",
       "      <td>joy</td>\n",
       "      <td>trust</td>\n",
       "    </tr>\n",
       "    <tr>\n",
       "      <th>7</th>\n",
       "      <td>1 week today, @championsleague returns to @lfc...</td>\n",
       "      <td>anticipation</td>\n",
       "      <td>joy</td>\n",
       "      <td>trust</td>\n",
       "    </tr>\n",
       "    <tr>\n",
       "      <th>8</th>\n",
       "      <td>2012 was only good because chelsea won the cha...</td>\n",
       "      <td>joy</td>\n",
       "      <td>sadness</td>\n",
       "      <td>ambiguous</td>\n",
       "    </tr>\n",
       "    <tr>\n",
       "      <th>9</th>\n",
       "      <td>26 yo right back, played in champions league? ...</td>\n",
       "      <td>joy</td>\n",
       "      <td>trust</td>\n",
       "      <td>anticipation</td>\n",
       "    </tr>\n",
       "  </tbody>\n",
       "</table>\n",
       "</div>"
      ],
      "text/plain": [
       "                                                post          emo1  \\\n",
       "0  #championsleague i am cmng to watch you...all ...           joy   \n",
       "1  #mufc wages up19% in13/14 season with #dimaria...  anticipation   \n",
       "2  #sterlings getting some great experience here....           joy   \n",
       "3  1 more week then it's block 208 kop grandstand...  anticipation   \n",
       "4  1 week from today! the @championsleague return...  anticipation   \n",
       "5  1 week today champions league is back at anfie...  anticipation   \n",
       "6  1 week today i'll be flying out for @bvb vs @a...  anticipation   \n",
       "7  1 week today, @championsleague returns to @lfc...  anticipation   \n",
       "8  2012 was only good because chelsea won the cha...           joy   \n",
       "9  26 yo right back, played in champions league? ...           joy   \n",
       "\n",
       "           emo2          emo3  \n",
       "0  anticipation         trust  \n",
       "1          fear           NaN  \n",
       "2         trust  anticipation  \n",
       "3           joy         trust  \n",
       "4           joy         trust  \n",
       "5           joy         trust  \n",
       "6           joy         trust  \n",
       "7           joy         trust  \n",
       "8       sadness     ambiguous  \n",
       "9         trust  anticipation  "
      ]
     },
     "execution_count": 21,
     "metadata": {},
     "output_type": "execute_result"
    }
   ],
   "source": [
    "label_result = pd.read_csv ('./data/emo/Test/test.tsv', delimiter=\"\\t\", names = [\"post\", \"emo1\", \"emo2\", \"emo3\"])\n",
    "label_result[:10]"
   ]
  },
  {
   "cell_type": "markdown",
   "metadata": {},
   "source": [
    "## Confusion Matrix"
   ]
  },
  {
   "cell_type": "code",
   "execution_count": 41,
   "metadata": {
    "collapsed": true
   },
   "outputs": [],
   "source": [
    "def plot_confusion_matrix(cm, classes,\n",
    "                          normalize=False,\n",
    "                          title='Confusion matrix',\n",
    "                          cmap=plt.cm.Blues):\n",
    "    \"\"\"\n",
    "    This function prints and plots the confusion matrix.\n",
    "    Normalization can be applied by setting `normalize=True`.\n",
    "    \"\"\"\n",
    "    if normalize:\n",
    "        cm = cm.astype('float') / cm.sum(axis=1)[:, np.newaxis]\n",
    "        print(\"Normalized confusion matrix\")\n",
    "    else:\n",
    "        print('Confusion matrix, without normalization')\n",
    "\n",
    "#     print(cm)\n",
    "\n",
    "    plt.imshow(cm, interpolation='nearest', cmap=cmap)\n",
    "    plt.title(title)\n",
    "    plt.colorbar()\n",
    "    tick_marks = np.arange(len(classes))\n",
    "    plt.xticks(tick_marks, classes, rotation=45)\n",
    "    plt.yticks(tick_marks, classes)\n",
    "\n",
    "    fmt = '.2f' if normalize else 'd'\n",
    "    thresh = cm.max() / 2.\n",
    "    for i, j in itertools.product(range(cm.shape[0]), range(cm.shape[1])):\n",
    "        plt.text(j, i, format(cm[i, j], fmt),\n",
    "                 horizontalalignment=\"center\",\n",
    "                 color=\"white\" if cm[i, j] > thresh else \"black\")\n",
    "\n",
    "    plt.tight_layout()\n",
    "    plt.ylabel('True label')\n",
    "    plt.xlabel('Predicted label')"
   ]
  },
  {
   "cell_type": "code",
   "execution_count": 34,
   "metadata": {},
   "outputs": [],
   "source": [
    "class_names = ['joy','surprise','trust','anticipation','fear','sadness','disgust','anger']\n",
    "cfm = confusion_matrix(label_result.emo1, model_test_result.emotion, labels=class_names)"
   ]
  },
  {
   "cell_type": "code",
   "execution_count": 46,
   "metadata": {},
   "outputs": [
    {
     "name": "stdout",
     "output_type": "stream",
     "text": [
      "              precision    recall  f1-score   support\n",
      "\n",
      "         joy       0.42      0.27      0.33       223\n",
      "    surprise       0.32      0.04      0.07       272\n",
      "       trust       0.67      0.01      0.02       183\n",
      "anticipation       0.10      0.45      0.17       119\n",
      "        fear       0.51      0.39      0.44       591\n",
      "     sadness       0.24      0.42      0.31       218\n",
      "     disgust       0.27      0.16      0.20       246\n",
      "       anger       0.17      0.46      0.25       102\n",
      "\n",
      " avg / total       0.38      0.27      0.27      1954\n",
      "\n"
     ]
    }
   ],
   "source": [
    "print(classification_report(label_result.emo1, model_test_result.emotion, target_names=class_names))"
   ]
  },
  {
   "cell_type": "code",
   "execution_count": 43,
   "metadata": {},
   "outputs": [
    {
     "name": "stdout",
     "output_type": "stream",
     "text": [
      "Confusion matrix, without normalization\n"
     ]
    },
    {
     "data": {
      "image/png": "[encoded data removed]",
      "text/plain": [
       "<matplotlib.figure.Figure at 0x7f09b4570be0>"
      ]
     },
     "metadata": {},
     "output_type": "display_data"
    },
    {
     "name": "stdout",
     "output_type": "stream",
     "text": [
      "Normalized confusion matrix\n"
     ]
    },
    {
     "data": {
      "image/png": "[encoded data removed]",
      "text/plain": [
       "<matplotlib.figure.Figure at 0x7f09b456a828>"
      ]
     },
     "metadata": {},
     "output_type": "display_data"
    }
   ],
   "source": [
    "# Plot non-normalized confusion matrix\n",
    "plt.figure()\n",
    "plot_confusion_matrix(cfm, classes=class_names,\n",
    "                      title='Confusion matrix, without normalization')\n",
    "plt.show()\n",
    "# Plot normalized confusion matrix\n",
    "plt.figure()\n",
    "plot_confusion_matrix(cfm, classes=class_names, normalize=True,\n",
    "                      title='Normalized confusion matrix')\n",
    "\n",
    "plt.show()"
   ]
  }
 ],
 "metadata": {
  "kernelspec": {
   "display_name": "Python 3",
   "language": "python",
   "name": "python3"
  },
  "language_info": {
   "codemirror_mode": {
    "name": "ipython",
    "version": 3
   },
   "file_extension": ".py",
   "mimetype": "text/x-python",
   "name": "python",
   "nbconvert_exporter": "python",
   "pygments_lexer": "ipython3",
   "version": "3.5.2"
  }
 },
 "nbformat": 4,
 "nbformat_minor": 2
}
